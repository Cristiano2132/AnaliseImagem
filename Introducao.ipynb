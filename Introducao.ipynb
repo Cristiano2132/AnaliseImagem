{
 "metadata": {
  "language_info": {
   "codemirror_mode": {
    "name": "ipython",
    "version": 3
   },
   "file_extension": ".py",
   "mimetype": "text/x-python",
   "name": "python",
   "nbconvert_exporter": "python",
   "pygments_lexer": "ipython3",
   "version": "3.7.6-final"
  },
  "orig_nbformat": 2,
  "kernelspec": {
   "name": "Python 3.7.6 64-bit ('base': conda)",
   "display_name": "Python 3.7.6 64-bit ('base': conda)",
   "metadata": {
    "interpreter": {
     "hash": "08401d0c45677436e5bc5ee65ec920b25bcc69968e1879505079a6c970af8614"
    }
   }
  }
 },
 "nbformat": 4,
 "nbformat_minor": 2,
 "cells": [
  {
   "source": [
    "# Pacotes"
   ],
   "cell_type": "markdown",
   "metadata": {}
  },
  {
   "cell_type": "code",
   "execution_count": 1,
   "metadata": {},
   "outputs": [],
   "source": [
    "from PIL import Image\n",
    "import os"
   ]
  },
  {
   "source": [
    "# Carregando uma imagem"
   ],
   "cell_type": "markdown",
   "metadata": {}
  },
  {
   "cell_type": "code",
   "execution_count": 2,
   "metadata": {},
   "outputs": [],
   "source": [
    "INPUT_FOLDER='data\\\\input'\n",
    "OUTPUT_FOLDER='data\\\\output'"
   ]
  },
  {
   "cell_type": "code",
   "execution_count": 3,
   "metadata": {
    "tags": []
   },
   "outputs": [
    {
     "output_type": "stream",
     "name": "stdout",
     "text": "(49, 140, 223)\n"
    }
   ],
   "source": [
    "# retorna o endereço relativo dentro da pasta 'input'\n",
    "def in_path(filename):\n",
    "    return os.path.join(INPUT_FOLDER, filename)\n",
    "image=Image.open(in_path('pensador.jpg'))\n",
    "print(image.getpixel((50,50)))"
   ]
  },
  {
   "cell_type": "code",
   "execution_count": 4,
   "metadata": {},
   "outputs": [],
   "source": [
    "image.show()"
   ]
  },
  {
   "source": [
    "# Construindo uma imagem"
   ],
   "cell_type": "markdown",
   "metadata": {}
  },
  {
   "cell_type": "code",
   "execution_count": 5,
   "metadata": {},
   "outputs": [],
   "source": [
    "image=Image.new('RGB',(700,700),(0,0,255))\n",
    "image.show()"
   ]
  },
  {
   "source": [
    "Desnhando um quadrado com duas cores dividido pela diagonal"
   ],
   "cell_type": "markdown",
   "metadata": {}
  },
  {
   "cell_type": "code",
   "execution_count": 6,
   "metadata": {},
   "outputs": [],
   "source": [
    "def triangulo(size):\n",
    "    WHITE=(255,255,255)\n",
    "    BLACK=(0,0,0)\n",
    "    image=Image.new('RGB',(size,size),WHITE)\n",
    "\n",
    "    for x in range(size):\n",
    "        for y in range(size):\n",
    "            if x<y:\n",
    "                image.putpixel((x,y),BLACK)\n",
    "    return image\n",
    "if __name__=='__main__':\n",
    "    t=triangulo(700)\n",
    "    t.show()"
   ]
  },
  {
   "source": [
    "Bandeira da França"
   ],
   "cell_type": "markdown",
   "metadata": {}
  },
  {
   "cell_type": "code",
   "execution_count": 7,
   "metadata": {},
   "outputs": [],
   "source": [
    "def bandeira_franca(height):\n",
    "    ratio=3/2\n",
    "    width=3*height//2\n",
    "    BLUE=(0,85,164)\n",
    "    WHITE=(255,255,255)\n",
    "    RED=(239,65,53)\n",
    "    image=Image.new('RGB',(width,height),WHITE)\n",
    "    offset=width//3\n",
    "    for x in range(offset):\n",
    "        for y in range(height):\n",
    "            image.putpixel((x,y),BLUE)\n",
    "            image.putpixel((x+2*offset,y),RED)\n",
    "            \n",
    "    return image\n",
    "\n",
    "\n",
    "if __name__=='__main__':\n",
    "    t=bandeira_franca(700)\n",
    "    t.show()"
   ]
  },
  {
   "source": [
    "Bandeira do Japão"
   ],
   "cell_type": "markdown",
   "metadata": {}
  },
  {
   "source": [
    "<img src=\"https://upload.wikimedia.org/wikipedia/commons/thumb/e/ef/Construction_sheet_of_the_Japanese_flag_no_text.svg/1280px-Construction_sheet_of_the_Japanese_flag_no_text.svg.png\" style=\"width:300px;height:200px;\">"
   ],
   "cell_type": "markdown",
   "metadata": {}
  },
  {
   "cell_type": "code",
   "execution_count": 8,
   "metadata": {},
   "outputs": [],
   "source": [
    "def bandeira_japao(height):\n",
    "    ratio=3/2\n",
    "    width=3*height//2\n",
    "    WHITE=(255,255,255)\n",
    "    RED=(173,35,51)\n",
    "    raio=3*height//10\n",
    "    centro=(width//2,height//2)\n",
    "    image=Image.new('RGB',(width,height),WHITE)\n",
    "    offset=width//3\n",
    "    for x in range(centro[0]-raio,centro[0]+raio):\n",
    "        for y in range(centro[1]-raio,centro[1]+raio):\n",
    "            if (x-centro[0])**2+(y-centro[1])**2<=raio**2:\n",
    "                image.putpixel((x,y),RED)\n",
    "            \n",
    "    return image\n",
    "\n",
    "\n",
    "if __name__=='__main__':\n",
    "    t=bandeira_japao(700)\n",
    "    t.show()"
   ]
  },
  {
   "source": [
    "Bandeira do Brasil"
   ],
   "cell_type": "markdown",
   "metadata": {}
  },
  {
   "source": [
    "<img src=\"http://2.bp.blogspot.com/-Gfm6kM7WW-A/UDE1eN6eGdI/AAAAAAAAC1U/wNWInMfo4n4/s1600/bandeira.JPG\" style=\"width:300px;height:300px;\">"
   ],
   "cell_type": "markdown",
   "metadata": {}
  },
  {
   "cell_type": "code",
   "execution_count": 9,
   "metadata": {},
   "outputs": [],
   "source": [
    "def bandeira_brasil(height):\n",
    "    GREEN = (0, 156, 59)\n",
    "    YELLOW = (255, 223, 0)\n",
    "    BLUE = (0, 39, 118)\n",
    "    width = 10 * height // 7\n",
    "    margem = 17 * height // 140\n",
    "    center = (width // 2, height // 2)\n",
    "    radius = height // 4\n",
    "\n",
    "    imagem = Image.new('RGB', (width, height), GREEN)\n",
    "\n",
    "    # pintando o losango\n",
    "    for x in range(margem, width - margem):\n",
    "        for y in range(margem, height - margem):\n",
    "            if x <= center[0] and y <= center[1] and (center[1] - y) <= 0.64 * (x - margem):\n",
    "                imagem.putpixel((x,y), YELLOW)\n",
    "            if x > center[0] and y <= center[1] and (center[1] - y) <= -0.64 * (x - center[0]) + center[1] - margem:\n",
    "                imagem.putpixel((x,y), YELLOW)\n",
    "            if x <= center[0] and y > center[1] and (y - center[1]) <= 0.64 * (x - margem):\n",
    "                imagem.putpixel((x,y), YELLOW)\n",
    "            if x > center[0] and y > center[1] and (y - center[1]) <= -0.64 * (x - center[0]) + center[1] - margem:\n",
    "                imagem.putpixel((x,y), YELLOW)\n",
    "    \n",
    "    # pintando o circulo\n",
    "    for x in range(center[0] - radius, center[0] + radius):\n",
    "        for y in range(center[1] - radius, center[1] + radius):\n",
    "            if (x - center[0]) ** 2 + (y - center[1]) ** 2 <= radius ** 2:\n",
    "                imagem.putpixel((x, y), BLUE)\n",
    "    return imagem\n",
    "\n",
    "if __name__=='__main__':\n",
    "    t=bandeira_brasil(700)\n",
    "    t.show()"
   ]
  },
  {
   "source": [
    "Salvando as imagens"
   ],
   "cell_type": "markdown",
   "metadata": {}
  },
  {
   "cell_type": "code",
   "execution_count": 10,
   "metadata": {
    "tags": []
   },
   "outputs": [
    {
     "output_type": "stream",
     "name": "stdout",
     "text": "Imagem salvas na pasta data\\output\n"
    }
   ],
   "source": [
    "if __name__ == \"__main__\":\n",
    "    teste = triangulo(700)\n",
    "    teste.save(os.path.join(OUTPUT_FOLDER, \"triangulo.jpg\"))\n",
    "    teste = bandeira_franca(700)\n",
    "    teste.save(os.path.join(OUTPUT_FOLDER, \"bandeira_franca.jpg\"))\n",
    "    teste = bandeira_japao(700)\n",
    "    teste.save(os.path.join(OUTPUT_FOLDER, \"bandeira_japao.jpg\"))\n",
    "    teste = bandeira_brasil(700)\n",
    "    teste.save(os.path.join(OUTPUT_FOLDER, \"bandeira_brasil.jpg\"))\n",
    "    print(\"Imagem salvas na pasta {}\".format(OUTPUT_FOLDER))"
   ]
  },
  {
   "source": [
    "# Como converter uma imagem para ESCALA de CINZA com Python"
   ],
   "cell_type": "markdown",
   "metadata": {}
  },
  {
   "cell_type": "code",
   "execution_count": 11,
   "metadata": {},
   "outputs": [],
   "source": [
    "from utils import in_file, out_file # retorna pasta de input e output, definada em utils.py"
   ]
  },
  {
   "cell_type": "code",
   "execution_count": 12,
   "metadata": {
    "tags": []
   },
   "outputs": [
    {
     "output_type": "stream",
     "name": "stdout",
     "text": "(131, 131, 131)\n(128, 128, 128)\n(105, 105, 105)\n"
    }
   ],
   "source": [
    "if __name__=='__main__':\n",
    "    img=Image.open(in_file('baloes-pb.jpg'))\n",
    "    print(img.getpixel((100,100)))\n",
    "    print(img.getpixel((500,300)))\n",
    "    print(img.getpixel((300,180)))"
   ]
  },
  {
   "source": [
    "<img src=\"data//input//baloes-pb.jpg\" style=\"width:300px;height:300px;\">"
   ],
   "cell_type": "markdown",
   "metadata": {}
  },
  {
   "source": [
    "Observe que a tupla (R,G,B) possui o mesmo valor em cada ponto, isso por que a imagem possui apenas tons de cinza. Isso pois a única informação necessária para descrever uma imagem em tons de cinza é sua luminância (quantidade de brilho)."
   ],
   "cell_type": "markdown",
   "metadata": {}
  },
  {
   "source": [
    "<img src=\"data//input//baloes.jpg\" style=\"width:300px;height:300px;\">"
   ],
   "cell_type": "markdown",
   "metadata": {}
  },
  {
   "source": [
    "Criaremos uma função para percorrer a imagem colorida acima, e para substituir cada pixel pela média dos valores da tupla RGB."
   ],
   "cell_type": "markdown",
   "metadata": {}
  },
  {
   "cell_type": "code",
   "execution_count": 13,
   "metadata": {},
   "outputs": [],
   "source": [
    "def grayscale(colored):\n",
    "    w,h = colored.size\n",
    "    img=Image.new('RGB',(w,h))\n",
    "    for x in range(w):\n",
    "        for y in range(h):\n",
    "            pxl = colored.getpixel((x,y))\n",
    "            lum=(pxl[0]+pxl[1]+pxl[2])//3 #média das cores RGB\n",
    "            img.putpixel((x,y),(lum,lum,lum))\n",
    "    return img\n",
    "\n",
    "if __name__=='__main__':\n",
    "    baloes=Image.open(in_file('baloes.jpg'))\n",
    "    pb_baloes=grayscale(baloes)\n",
    "    pb_baloes.save(out_file('pb_baloes.jpg'))"
   ]
  },
  {
   "source": [
    "A percepção de iluminação e extraída com intensidades diferentes para cada banda, sendo a componente verde predominante, seguido pela vermelha e uma pequena parte da componente azul. Portanto para uma melhor escala de cinza temos que usar uma média ponderada. Para facilitar usaremos as proporções 0.3R, 0.59G e 0.11B."
   ],
   "cell_type": "markdown",
   "metadata": {}
  },
  {
   "cell_type": "code",
   "execution_count": 14,
   "metadata": {},
   "outputs": [],
   "source": [
    "def grayscale(colored):\n",
    "    w,h = colored.size\n",
    "    img=Image.new('RGB',(w,h))\n",
    "    for x in range(w):\n",
    "        for y in range(h):\n",
    "            pxl = colored.getpixel((x,y))\n",
    "            lum=int(0.3*pxl[0]+0.59*pxl[1]+0.11*pxl[2]) #média ponderada das cores RGB\n",
    "            img.putpixel((x,y),(lum,lum,lum))\n",
    "    return img\n",
    "\n",
    "if __name__=='__main__':\n",
    "    baloes=Image.open(in_file('baloes.jpg'))\n",
    "    pb_baloes=grayscale(baloes)\n",
    "    pb_baloes.save(out_file('pb_baloes_media_ponderada.jpg'))"
   ]
  },
  {
   "source": [
    "# Filtro de imagem"
   ],
   "cell_type": "markdown",
   "metadata": {}
  },
  {
   "cell_type": "code",
   "execution_count": 15,
   "metadata": {},
   "outputs": [],
   "source": [
    "from PIL import Image, ImageFilter\n",
    "import numpy as np"
   ]
  },
  {
   "source": [
    "<img src=\"data//input//ellie.jpg\" style=\"width:300px;height:300px;\">\n"
   ],
   "cell_type": "markdown",
   "metadata": {}
  },
  {
   "cell_type": "code",
   "execution_count": 16,
   "metadata": {},
   "outputs": [],
   "source": [
    "img=Image.open(os.path.join(in_file('ellie.jpg')))\n",
    "img.show()"
   ]
  },
  {
   "cell_type": "code",
   "execution_count": 17,
   "metadata": {},
   "outputs": [],
   "source": [
    "filtered=img.filter(ImageFilter.BLUR)\n",
    "filtered2=img.filter(ImageFilter.CONTOUR)\n",
    "filtered3=img.filter(ImageFilter.GaussianBlur)"
   ]
  },
  {
   "cell_type": "code",
   "execution_count": 18,
   "metadata": {},
   "outputs": [],
   "source": [
    "def show_horizontal(im1, im2):\n",
    "    im=Image.fromarray(np.hstack((np.array(im1),np.array(im2))))\n",
    "    im.show()\n",
    "    \n",
    "def show_vertical(im1, im2):\n",
    "    im=Image.fromarray(np.vstack((np.array(im1),np.array(im2))))\n",
    "    im.show()"
   ]
  },
  {
   "cell_type": "code",
   "execution_count": 19,
   "metadata": {},
   "outputs": [],
   "source": [
    "show_horizontal(img,filtered)"
   ]
  },
  {
   "cell_type": "code",
   "execution_count": 20,
   "metadata": {},
   "outputs": [],
   "source": [
    "show_horizontal(img,filtered2)\n"
   ]
  },
  {
   "cell_type": "code",
   "execution_count": 21,
   "metadata": {},
   "outputs": [],
   "source": [
    "show_horizontal(img,filtered3)"
   ]
  },
  {
   "source": [
    "# DETECTANDO ARESTAS na Imagem com Filtro Sobel "
   ],
   "cell_type": "markdown",
   "metadata": {}
  },
  {
   "source": [
    "Usaremos a idéia de derivadas para encontrar as arestas. \n",
    "\n",
    "https://en.wikipedia.org/wiki/Image_gradient\n",
    "\n",
    "https://en.wikipedia.org/wiki/Sobel_operator\n"
   ],
   "cell_type": "markdown",
   "metadata": {}
  },
  {
   "cell_type": "code",
   "execution_count": 22,
   "metadata": {},
   "outputs": [],
   "source": [
    "# IMPC06 | \"Borrando uma Imagem em Python\": https://youtu.be/IgQfpMPblR0\n",
    "def show_box_blur(filename, r=1):\n",
    "    '''Aplica um filtro BoxBlur à imagem, exibe e salva o resultado'''\n",
    "\n",
    "    original = Image.open(in_file(filename))\n",
    "    filtered = original.filter(ImageFilter.BoxBlur(r))\n",
    "\n",
    "    #Mostrar as imagens lado a lado\n",
    "    show_horizontal(original, filtered)\n",
    "    filtered.save(\n",
    "        out_file(\n",
    "            '{}_sobel_{}.jpg'.format(filename[:filename.index('.')], r)\n",
    "        )\n",
    "    )\n",
    "\n",
    "\n",
    "if __name__ == \"__main__\":\n",
    "    # Experimente outras imagens e tamanhos de filtros\n",
    "    show_box_blur('ellie.jpg', 4)\n",
    "\n"
   ]
  },
  {
   "cell_type": "code",
   "execution_count": 23,
   "metadata": {},
   "outputs": [],
   "source": [
    "def show_edges(filename, direction='x', offset=0):\n",
    "    '''Aplica um filtro Sobel à imagem, exibe e salva o resultado'''\n",
    "    original = Image.open(in_file(filename)).convert('L')\n",
    "    XSOBEL=ImageFilter.Kernel(\n",
    "        size=(3,3),\n",
    "        kernel=[-1,0,1,\n",
    "         -2,0,2,\n",
    "         -1,0,1],\n",
    "         scale=1,\n",
    "         offset=offset\n",
    "    )\n",
    "    YSOBEL = ImageFilter.Kernel(\n",
    "        size=(3,3),\n",
    "        kernel=[-1,-2,1,\n",
    "                0,0,0,\n",
    "                1,2,1],\n",
    "         scale=1,\n",
    "         offset=offset\n",
    "    )\n",
    "    if direction == 'x':\n",
    "        filtered = original.filter(XSOBEL)\n",
    "    elif direction == 'y':\n",
    "        filtered = original.filter(YSOBEL)\n",
    "    else:\n",
    "        vsobel=original.filter(XSOBEL)\n",
    "        hsobel=original.filter(YSOBEL)\n",
    "        w,h = original.size\n",
    "        filtered = Image.new('L',(w,h))\n",
    "\n",
    "        for i in range(w):\n",
    "            for j in range(h):\n",
    "                value=np.sqrt(vsobel.getpixel(i,j)**2+hsobel.getpixel((i,j))**2)\n",
    "                value=int(min(value, 255))\n",
    "                filtered.putpixel((i,j), value)\n",
    "\n",
    "    #Mostrar as imagens lado a lado\n",
    "    show_horizontal(original, filtered)\n",
    "    filtered.save(\n",
    "        out_file(\n",
    "            '{}_{}_sobel_{}.jpg'.format(filename[:filename.index('.')], direction, offset)\n",
    "        )\n",
    "    )\n",
    "\n",
    "\n",
    "if __name__ == \"__main__\":\n",
    "    # Experimente outras imagens e tamanhos de filtros\n",
    "    show_edges('white.jpg',offset=0)\n"
   ]
  },
  {
   "source": [
    "# Imgens de satélite"
   ],
   "cell_type": "markdown",
   "metadata": {}
  },
  {
   "cell_type": "code",
   "execution_count": null,
   "metadata": {},
   "outputs": [],
   "source": []
  }
 ]
}